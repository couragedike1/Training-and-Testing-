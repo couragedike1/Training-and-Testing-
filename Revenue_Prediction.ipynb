{
 "cells": [
  {
   "cell_type": "code",
   "execution_count": null,
   "id": "c3704e84",
   "metadata": {},
   "outputs": [],
   "source": [
    "import pandas as pd\n",
    "import matplotlib.pyplot as plt\n",
    "import seaborn as sns\n",
    "import numpy as np\n"
   ]
  },
  {
   "cell_type": "code",
   "execution_count": null,
   "id": "d02056b8",
   "metadata": {},
   "outputs": [],
   "source": [
    "#importing the Dataset\n",
    "train_set = pd.read_csv('train.csv')\n",
    "\n",
    "#importing the test Dataset\n",
    "test_set = pd.read_csv('test.csv')"
   ]
  },
  {
   "cell_type": "code",
   "execution_count": null,
   "id": "cf55dcef",
   "metadata": {},
   "outputs": [],
   "source": [
    "train_set"
   ]
  },
  {
   "cell_type": "code",
   "execution_count": null,
   "id": "a39a723f",
   "metadata": {},
   "outputs": [],
   "source": [
    "test_set.head(5)"
   ]
  },
  {
   "cell_type": "code",
   "execution_count": null,
   "id": "4b78748c",
   "metadata": {},
   "outputs": [],
   "source": [
    "#Checking to see if the columns names and position match each other\n",
    "train_set.columns[:-1] == test_set.columns"
   ]
  },
  {
   "cell_type": "markdown",
   "id": "a9ea4baa",
   "metadata": {},
   "source": [
    "### Accessing the Quality of the Data"
   ]
  },
  {
   "cell_type": "code",
   "execution_count": null,
   "id": "415dd55e",
   "metadata": {},
   "outputs": [],
   "source": [
    "train_set.columns"
   ]
  },
  {
   "cell_type": "code",
   "execution_count": null,
   "id": "f1dc86da",
   "metadata": {},
   "outputs": [],
   "source": [
    "train_set.dtypes"
   ]
  },
  {
   "cell_type": "markdown",
   "id": "d927bab3",
   "metadata": {},
   "source": [
    "### Description of the Features\n",
    "- title - Title of the movie\n",
    "- country - Countries in which movie was released\n",
    "- genres - Movie Genres (Action ,Adventure, Comedy etc.)\n",
    "- language - Languages in which movie was released\n",
    "- writer_count - Number of writers of the movie\n",
    "- title_adaption - Is movie original screenplay or adapted\n",
    "- censor_rating - Release rating given to the movie (R /PG-13/PG/NR/UR/G) \n",
    "- release_date - Date when movie was released\n",
    "- runtime - Movie runtime\n",
    "- dvd_release_date - Date of release of DVD for sale\n",
    "- users_votes - Number of users who voted for this movie to be included in Watch-It library\n",
    "- comments - Number of comments on movie trailer\n",
    "- likes - Number of likes on movie trailer\n",
    "- overall_views - Number of views on movie trailer\n",
    "- dislikes - Number of dislikes on movie trailer\n",
    "- ratings_imdb - Rating given to movie on IMDB\n",
    "- ratings_tomatoes - Rating given to movie on Rotten tomatoes.\n",
    "- ratings_metacritic - Rating given to movie on Metacritic etc.\n",
    "- special_award - Number of awards nominations/winnings in BAFTA, Oscar or Golden Globe.\n",
    "- awards_win - Awards won by the movie\n",
    "- awards_nomination - Number of awards nominations\n",
    "- revenue_category - Revenue Category (High/Low)\n",
    "\n",
    "\n",
    "\n",
    "\n",
    "\n",
    "\n",
    "\n",
    "\n",
    "\n",
    "\n",
    "\n",
    "\n",
    "\n",
    "\n",
    "\n",
    "\n",
    "\n",
    "\n",
    "\n",
    "\n",
    "\n"
   ]
  },
  {
   "cell_type": "code",
   "execution_count": null,
   "id": "c132c1f8",
   "metadata": {},
   "outputs": [],
   "source": [
    "#Checking for null values\n",
    "train_set.isna().sum()"
   ]
  },
  {
   "cell_type": "code",
   "execution_count": null,
   "id": "e6f6ac8d",
   "metadata": {},
   "outputs": [],
   "source": [
    "#Visualizing the null values present\n",
    "plt.figure(figsize=(10,6))\n",
    "sns.displot(\n",
    "    data=train_set.isna().melt(value_name=\"missing\"),\n",
    "    y=\"variable\",\n",
    "    hue=\"missing\",\n",
    "    multiple=\"fill\",\n",
    "    aspect=1.25)"
   ]
  },
  {
   "cell_type": "code",
   "execution_count": null,
   "id": "c8c548f4",
   "metadata": {},
   "outputs": [],
   "source": [
    "#Checking the number of distinct values for each column\n",
    "train_set.nunique()\n",
    "\n",
    "#Let us keep in mind that there are 2400 rows"
   ]
  },
  {
   "cell_type": "code",
   "execution_count": null,
   "id": "7393306f",
   "metadata": {},
   "outputs": [],
   "source": [
    "#Assessng the movie title column, it was expected that the movie title column will be unique, since it is not,\n",
    "#further investigation needs to be carried out\n",
    "train_set['title'].value_counts()"
   ]
  },
  {
   "cell_type": "code",
   "execution_count": null,
   "id": "8fc441f7",
   "metadata": {},
   "outputs": [],
   "source": [
    "#checking for duplicates value\n",
    "train_set[train_set.duplicated()]"
   ]
  },
  {
   "cell_type": "markdown",
   "id": "5a51c9a4",
   "metadata": {},
   "source": [
    "No Duplicates were found, upon further analysis, it was noticed that the names of the movies were indeed unique"
   ]
  },
  {
   "cell_type": "code",
   "execution_count": null,
   "id": "ffd36ea0",
   "metadata": {},
   "outputs": [],
   "source": [
    "train_set[train_set['title'] == 'Frozen ']"
   ]
  },
  {
   "cell_type": "code",
   "execution_count": null,
   "id": "60fb4460",
   "metadata": {},
   "outputs": [],
   "source": [
    "#assessing the country column \n",
    "train_set['country'].value_counts()\n",
    "\n",
    "#identified as a categorical variable\n",
    "#should be useful"
   ]
  },
  {
   "cell_type": "code",
   "execution_count": null,
   "id": "a0708d54",
   "metadata": {},
   "outputs": [],
   "source": [
    "#assessing the genres column\n",
    "train_set['genres'].value_counts()\n",
    "\n",
    "#identified as a categorical variable\n",
    "#should be useful"
   ]
  },
  {
   "cell_type": "code",
   "execution_count": null,
   "id": "4d06274e",
   "metadata": {},
   "outputs": [],
   "source": [
    "#assessing the language column\n",
    "train_set['language'].value_counts()[:15]\n",
    "\n",
    "#identified as a categorical variable\n",
    "#should be useful"
   ]
  },
  {
   "cell_type": "code",
   "execution_count": null,
   "id": "28353caf",
   "metadata": {},
   "outputs": [],
   "source": [
    "#Assessing the writer count\n",
    "train_set['writer_count'].value_counts()\n",
    "\n",
    "#identified as a categorical variable\n",
    "#might be useful, will be compared with the revenue for further analysis"
   ]
  },
  {
   "cell_type": "code",
   "execution_count": null,
   "id": "a56ee3ed",
   "metadata": {},
   "outputs": [],
   "source": [
    "#Assessing the title adaption\n",
    "train_set['title_adaption'].value_counts()\n",
    "\n",
    "#Identified as a categorical variable\n",
    "#Might be useful, it will be compared with the revenue for further analysis"
   ]
  },
  {
   "cell_type": "code",
   "execution_count": null,
   "id": "eee7f4c9",
   "metadata": {
    "scrolled": true
   },
   "outputs": [],
   "source": [
    "#assessing the users vote column\n",
    "train_set['users_votes'].value_counts()\n",
    "\n",
    "#Too ambigious, should be dropped"
   ]
  },
  {
   "cell_type": "code",
   "execution_count": null,
   "id": "1d69d98c",
   "metadata": {},
   "outputs": [],
   "source": [
    "#assessing the likes column\n",
    "train_set['likes'].value_counts()\n",
    "\n",
    "#Indentified as a continious variable\n",
    "#should be used for further analyis"
   ]
  },
  {
   "cell_type": "code",
   "execution_count": null,
   "id": "e04cabe5",
   "metadata": {},
   "outputs": [],
   "source": [
    "#assessing the runtime column\n",
    "train_set['runtime'].value_counts()\n",
    "\n",
    "#should be useful for analysis"
   ]
  },
  {
   "cell_type": "code",
   "execution_count": null,
   "id": "7923a9c1",
   "metadata": {},
   "outputs": [],
   "source": [
    "#assessing the overall_views column\n",
    "train_set['overall_views'].value_counts()\n",
    "\n",
    "#Indentified as a continious variable\n",
    "#should be used for further analyis"
   ]
  },
  {
   "cell_type": "code",
   "execution_count": null,
   "id": "93e71560",
   "metadata": {},
   "outputs": [],
   "source": [
    "#assessing the dislikes colum\n",
    "train_set['dislikes'].value_counts()\n",
    "\n",
    "#identified as a continious variable\n",
    "#should be useful"
   ]
  },
  {
   "cell_type": "code",
   "execution_count": null,
   "id": "7e7a6356",
   "metadata": {},
   "outputs": [],
   "source": [
    "#assessing the ratings imdb column\n",
    "train_set['ratings_imdb'].value_counts()\n",
    "\n",
    "#identified as a continious variable\n",
    "#should be useful"
   ]
  },
  {
   "cell_type": "code",
   "execution_count": null,
   "id": "952bd74d",
   "metadata": {},
   "outputs": [],
   "source": [
    "#assessing the ratings tomatoes column\n",
    "train_set['ratings_tomatoes'].value_counts()\n",
    "\n",
    "#identified as a continious variable\n",
    "#should be useful"
   ]
  },
  {
   "cell_type": "code",
   "execution_count": null,
   "id": "42da0cd3",
   "metadata": {},
   "outputs": [],
   "source": [
    "#assessing the ratings metacritic column\n",
    "train_set['ratings_metacritic'].value_counts()\n",
    "\n",
    "#identified as a continious variable\n",
    "#should be useful"
   ]
  },
  {
   "cell_type": "code",
   "execution_count": null,
   "id": "4ffc2963",
   "metadata": {},
   "outputs": [],
   "source": [
    "#assessing the censor rating column\n",
    "train_set['censor_rating'].value_counts()\n",
    "\n",
    "#identified as a categorical variable\n",
    "#should be useful"
   ]
  },
  {
   "cell_type": "markdown",
   "id": "76c7f08b",
   "metadata": {},
   "source": [
    "#### Issues  - Should be writen in a function so that you can apply it to the test dataset\n",
    "\n",
    "- Get Rid of Null Values based on important columns like the movie title\n",
    "- Might need to stripe whitespaces from the records of certain columns\n",
    "- Drop unnecessary columns like comments, users_votes, \n",
    "- Change the Date Column to Datetime: release_date, dvd_release_date \n",
    "- Create a new column titled 'early_dvd_release', this is the difference bewteen the cinema release date and dvd release date\n",
    "- Clean the runtime column for proper analysis: get rid of the min, and convert to minutes\n",
    "- Create a new column titled 'equivalent likes: likes - dislikes, this will be what will be used for analysis\n",
    "- Get Rid of the /10 on the imdb ratings column and convert to numeric type\n",
    "- Get Rid of the % on the ratings_tomatoes column and convert to numeric type\n",
    "- Get Rid of the /100 on the metacritic ratings column and convert to numeric type\n",
    "- Create a first language column\n",
    "- Create a count of total number of languages available for the movie\n",
    "- Create a first Genre column\n",
    "- Create a count of total numbetr of genre for the movie\n",
    "\n"
   ]
  },
  {
   "cell_type": "code",
   "execution_count": null,
   "id": "aadb92a5",
   "metadata": {},
   "outputs": [],
   "source": [
    "def clean_dataset(data):\n",
    "    #drop null values\n",
    "    key_values = ['title']\n",
    "    data = data.dropna(subset = key_values)\n",
    "    #changing the columns to datetime\n",
    "    data['dvd_release_date'] = pd.to_datetime(data['dvd_release_date'], errors = 'coerce')\n",
    "    data['release_date'] = pd.to_datetime(data['release_date'], errors = 'coerce')\n",
    "    #creating the early_dvd_release column\n",
    "    data['early_dvd_release'] = (data['dvd_release_date'] - data['release_date']).dt.days\n",
    "    #creating a month column\n",
    "    data['release_month'] = data['release_date'].dt.month\n",
    "    #creating a year column\n",
    "    data['release_year'] = data['release_date'].dt.year\n",
    "    #cleaning the runtime column\n",
    "    data['runtime'] = data['runtime'].str.strip(' min').apply(pd.to_numeric)\n",
    "    #creating the equivalent likes column\n",
    "    data['equivalent_likes'] = data['likes'] - data['dislikes']\n",
    "    #cleaning the ratings_imdb column\n",
    "    data['ratings_imdb'] = data['ratings_imdb'].str.strip('/10').apply(pd.to_numeric)\n",
    "    #cleaning the ratings tomatoes column\n",
    "    data['ratings_tomatoes'] = data['ratings_tomatoes'].str.strip('%').apply(pd.to_numeric)\n",
    "    #cleaning the ratings_metacritic column\n",
    "    data['ratings_metacritic'] = data['ratings_metacritic'].str.strip('/100').apply(pd.to_numeric)\n",
    "    #cleaning the censor_rating column\n",
    "    data['censor_rating'].replace(['Unrated', 'Not Rated'], ['UNRATED','NOT RATED'], inplace = True)\n",
    "    #creating a column to get the first language\n",
    "    data['first_language'] = data['language'].str.split(',').str[0]\n",
    "    #creating a column to get the total number of languages present\n",
    "    data['No_of_languages'] = data['language'].str.split(',').str.len()\n",
    "    #creating a column to get the first genre\n",
    "    data['main_genre'] = data['genres'].str.split(',').str[0]\n",
    "    #creating a column to get the total number of genres listed\n",
    "    data['No_of_genres'] = data['genres'].str.split(',').str.len()\n",
    "    #creating a column to get the first country\n",
    "    data['first_country'] = data['country'].str.split(',').str[0]\n",
    "    #creating a column to get the total number of genres listed\n",
    "    data['No_of_country'] = data['country'].str.split(',').str.len()\n",
    "    #renaming the title_adaption column records\n",
    "    data['title_adaption'].replace([True, False], [1,0], inplace = True)\n",
    "    #renaming the revenue_category column records\n",
    "    try:\n",
    "        data['revenue_category'].replace(['Low', 'High'], [0,1], inplace = True)\n",
    "    except:\n",
    "        pass\n",
    "    #cleaning the users_vote column\n",
    "    data['users_votes'] = data['users_votes'].str.replace(',','').apply(pd.to_numeric)\n",
    "    \n",
    "    #drop all null values\n",
    "    data = data.dropna(how = 'any')\n",
    "    #turning categorical variables to numbers\n",
    "    cat = pd.get_dummies(data['censor_rating'])\n",
    "    \n",
    "    #joining the dataframe\n",
    "    data = pd.concat([data, cat], axis = 1)\n",
    "    \n",
    "    #drop unecessary columns\n",
    "    cols_to_drop = ['comments', 'likes', 'dislikes', 'dvd_release_date', 'release_date', 'censor_rating',\n",
    "                    'language', 'genres', 'country', 'first_country', 'first_language', 'main_genre']\n",
    "    data = data.drop(cols_to_drop, axis = 1)\n",
    "    \n",
    "    return data\n",
    "    \n",
    "    "
   ]
  },
  {
   "cell_type": "code",
   "execution_count": null,
   "id": "183cc14d",
   "metadata": {},
   "outputs": [],
   "source": [
    "#cleaning the dataset\n",
    "new_train_set = clean_dataset(train_set)"
   ]
  },
  {
   "cell_type": "code",
   "execution_count": null,
   "id": "fc266486",
   "metadata": {},
   "outputs": [],
   "source": [
    "#importing machine learning modules\n",
    "from sklearn import preprocessing\n",
    "from sklearn.linear_model import LogisticRegression\n",
    "from sklearn.model_selection import train_test_split"
   ]
  },
  {
   "cell_type": "code",
   "execution_count": null,
   "id": "d6124401",
   "metadata": {},
   "outputs": [],
   "source": [
    "#creating d \n",
    "X = new_train_set.drop(['title','revenue_category'],axis = 1)\n",
    "y = new_train_set['revenue_category']"
   ]
  },
  {
   "cell_type": "code",
   "execution_count": null,
   "id": "86504dbe",
   "metadata": {},
   "outputs": [],
   "source": [
    "#dividing the dataset into a train_set and test_set\n",
    "from sklearn import metrics\n",
    "X_train, X_test, y_train, y_test = train_test_split(X, y, test_size=0.3, random_state=42)\n",
    "logreg = LogisticRegression()\n",
    "logreg.fit(X_train, y_train)"
   ]
  },
  {
   "cell_type": "code",
   "execution_count": null,
   "id": "74d5cd33",
   "metadata": {},
   "outputs": [],
   "source": [
    "y_pred = logreg.predict(X_test)\n",
    "print('Accuracy of logistic regression classifier on test set: {:.2f}'.format(logreg.score(X_test, y_test)))"
   ]
  },
  {
   "cell_type": "code",
   "execution_count": null,
   "id": "b6c9536b",
   "metadata": {},
   "outputs": [],
   "source": [
    "from sklearn.metrics import confusion_matrix\n",
    "confusion_matrix = confusion_matrix(y_test, y_pred)\n",
    "print(confusion_matrix)"
   ]
  },
  {
   "cell_type": "code",
   "execution_count": null,
   "id": "9d38d4f2",
   "metadata": {},
   "outputs": [],
   "source": [
    "#Using another metric\n",
    "from sklearn.metrics import classification_report\n",
    "print(classification_report(y_test, y_pred))"
   ]
  },
  {
   "cell_type": "code",
   "execution_count": null,
   "id": "c0d0644a",
   "metadata": {},
   "outputs": [],
   "source": [
    "#Visualizaing the Results\n",
    "from sklearn.metrics import roc_auc_score\n",
    "from sklearn.metrics import roc_curve\n",
    "logit_roc_auc = roc_auc_score(y_test, logreg.predict(X_test))\n",
    "fpr, tpr, thresholds = roc_curve(y_test, logreg.predict_proba(X_test)[:,1])\n",
    "plt.figure()\n",
    "plt.plot(fpr, tpr, label='Logistic Regression (area = %0.2f)' % logit_roc_auc)\n",
    "plt.plot([0, 1], [0, 1],'r--')\n",
    "plt.xlim([0.0, 1.0])\n",
    "plt.ylim([0.0, 1.05])\n",
    "plt.xlabel('False Positive Rate')\n",
    "plt.ylabel('True Positive Rate')\n",
    "plt.title('Receiver operating characteristic')\n",
    "plt.legend(loc=\"lower right\")\n",
    "#plt.savefig('Log_ROC')\n",
    "plt.show()"
   ]
  },
  {
   "cell_type": "markdown",
   "id": "c617d75d",
   "metadata": {},
   "source": [
    "### Testing on the Original Test_set"
   ]
  },
  {
   "cell_type": "markdown",
   "id": "03f88a8a",
   "metadata": {},
   "source": [
    "Cleaning the Original Test with the clean_dataset function"
   ]
  },
  {
   "cell_type": "code",
   "execution_count": null,
   "id": "cc4655e1",
   "metadata": {},
   "outputs": [],
   "source": [
    "new_test_set = clean_dataset(test_set)"
   ]
  },
  {
   "cell_type": "code",
   "execution_count": null,
   "id": "3df62354",
   "metadata": {},
   "outputs": [],
   "source": [
    "#dropping unnecessary columns\n",
    "Original_test= new_test_set.drop(['title'],axis = 1)"
   ]
  },
  {
   "cell_type": "code",
   "execution_count": null,
   "id": "b9f48b90",
   "metadata": {},
   "outputs": [],
   "source": [
    "#Using the the machine learning model developed\n",
    "results = logreg.predict(Original_test)"
   ]
  },
  {
   "cell_type": "code",
   "execution_count": null,
   "id": "6f227a7d",
   "metadata": {},
   "outputs": [],
   "source": [
    "#printing results\n",
    "results"
   ]
  },
  {
   "cell_type": "code",
   "execution_count": null,
   "id": "8c8d5553",
   "metadata": {},
   "outputs": [],
   "source": [
    "# concatenating the results column to the dataframe\n",
    "res = []\n",
    "\n",
    "for index, element in enumerate(results):\n",
    "    if element == 0:\n",
    "        res.append(\"Low\")\n",
    "    else:\n",
    "        res.append(\"High\")\n",
    "\n",
    "new_test_set['Revenue_category'] = res\n"
   ]
  },
  {
   "cell_type": "code",
   "execution_count": null,
   "id": "e5009eaf",
   "metadata": {},
   "outputs": [],
   "source": [
    "results_df = new_test_set[['title', 'Revenue_category']]"
   ]
  },
  {
   "cell_type": "code",
   "execution_count": null,
   "id": "fb303848",
   "metadata": {},
   "outputs": [],
   "source": [
    "results_df.to_csv('submissions.csv', index = False)"
   ]
  },
  {
   "cell_type": "code",
   "execution_count": null,
   "id": "f408508e",
   "metadata": {},
   "outputs": [],
   "source": []
  }
 ],
 "metadata": {
  "kernelspec": {
   "display_name": "Python 3.8.9 ('museenv')",
   "language": "python",
   "name": "python3"
  },
  "language_info": {
   "codemirror_mode": {
    "name": "ipython",
    "version": 3
   },
   "file_extension": ".py",
   "mimetype": "text/x-python",
   "name": "python",
   "nbconvert_exporter": "python",
   "pygments_lexer": "ipython3",
   "version": "3.8.9"
  },
  "vscode": {
   "interpreter": {
    "hash": "eed83038bc463c858fcde2bfc2f8142e21ba8e10dfdfa38781dbdca63b2b5793"
   }
  }
 },
 "nbformat": 4,
 "nbformat_minor": 5
}
